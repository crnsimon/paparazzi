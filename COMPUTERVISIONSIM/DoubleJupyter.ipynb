{
 "cells": [
  {
   "cell_type": "code",
   "execution_count": 6,
   "metadata": {},
   "outputs": [],
   "source": [
    "import numpy as np\n",
    "import cv2\n",
    "import matplotlib.pyplot as plt\n",
    "import pandas as pd\n",
    "import ipywidgets as widgets\n",
    "from ipywidgets import interact"
   ]
  },
  {
   "cell_type": "code",
   "execution_count": 7,
   "metadata": {},
   "outputs": [],
   "source": [
    "# Extract data from the csv\n",
    "csv_path = r'C:\\Users\\Jonathan van Zyl\\Documents\\GitHub\\paparazzi\\COMPUTERVISIONSIM\\Projection\\single_image\\20190121-140303.csv'"
   ]
  },
  {
   "cell_type": "code",
   "execution_count": 8,
   "metadata": {},
   "outputs": [],
   "source": [
    "# Extract time using pandas\n",
    "def image_data_needed(time_step, csv_path):\n",
    "    df = pd.read_csv(csv_path)\n",
    "    time = df['time']\n",
    "    pos_x = df['pos_x']\n",
    "    pos_y = df['pos_y']\n",
    "    pos_z = df['pos_z']\n",
    "    att_phi = df['att_phi']\n",
    "    att_theta = df['att_theta']\n",
    "    att_psi = df['att_psi']\n",
    "\n",
    "    # Interpolate the data with respect to the time stamp\n",
    "    index = np.argmin(np.abs(time - time_step))\n",
    "\n",
    "    # Extract the position and attitude at the time stamp\n",
    "    pos_x = pos_x[index]\n",
    "    pos_y = pos_y[index]\n",
    "    pos_z = pos_z[index]\n",
    "    att_phi = att_phi[index]\n",
    "    att_theta = att_theta[index]\n",
    "    att_psi = att_psi[index]\n",
    "\n",
    "    # make state vector\n",
    "    state_vector = np.array([pos_x, pos_y, pos_z, att_phi, att_theta, att_psi])\n",
    "\n",
    "    # Rotation matrix wrt to cyberzoo frame to drone frame\n",
    "    def update_camera_rotation_matrix(psi):\n",
    "                # Converting from [-pi, pi] to [0, 2pi]:\n",
    "                if psi < 0:\n",
    "                    yaw = 2 * np.pi + psi\n",
    "                else:\n",
    "                    yaw = psi\n",
    "                Rz = np.array([[np.cos(yaw), -np.sin(yaw), 0],\n",
    "                            [np.sin(yaw), np.cos(yaw), 0],\n",
    "                            [0, 0, 1]])\n",
    "\n",
    "                # The order of multiplication depends on the convention used. This uses ZYX (yaw-pitch-roll).\n",
    "                R = Rz\n",
    "\n",
    "                return R\n",
    "\n",
    "    '''\n",
    "    _OZ1: X=-1.34 m, Y=-3.37 m, Z=0 m\n",
    "    _OZ2: X=-4.40 m, Y=1.05 m, Z=0 m\n",
    "    _OZ3: X=0.44 m, Y=4.18 m, Z=0 m\n",
    "    _OZ4: X=3.27 m, Y=-0.41 m, Z=0 m\n",
    "    '''\n",
    "\n",
    "    # Define the corners of the cyberzoo in Cyberzoo frame\n",
    "    OZ1 = np.array([-1.34, -3.37, 0])\n",
    "    OZ2 = np.array([-4.40, 1.05, 0])\n",
    "    OZ3 = np.array([0.44, 4.18, 0])\n",
    "    OZ4 = np.array([3.27, -0.41, 0])\n",
    "\n",
    "\n",
    "    # Rotate & translate the corners into the drone frame\n",
    "    R = update_camera_rotation_matrix(att_psi)\n",
    "    #R = np.linalg.inv(R)\n",
    "    t = np.array([pos_x, pos_y, pos_z])\n",
    "    OZ1 = np.dot(R, OZ1) - t\n",
    "    OZ2 = np.dot(R, OZ2) - t\n",
    "    OZ3 = np.dot(R, OZ3) - t\n",
    "    OZ4 = np.dot(R, OZ4) - t\n",
    "\n",
    "    return OZ1, OZ2, OZ3, OZ4\n",
    "\n",
    "\n",
    "rvec_null = np.zeros((1, 1, 3), dtype=np.float32)\n",
    "Tvec_null = np.zeros((1, 1, 3), dtype=np.float32)\n",
    "\n",
    "\n",
    "               "
   ]
  },
  {
   "cell_type": "code",
   "execution_count": 9,
   "metadata": {},
   "outputs": [],
   "source": [
    "image_path_a = r'C:\\Users\\Jonathan van Zyl\\Documents\\GitHub\\paparazzi\\COMPUTERVISIONSIM\\Projection\\single_image\\image\\68016093.jpg'\n",
    "time_stamp_a = 68.016093\n",
    "\n",
    "#image_path = r'C:\\Users\\Jonathan van Zyl\\Documents\\GitHub\\paparazzi\\COMPUTERVISIONSIM\\Projection\\single_image\\image\\63582791.jpg'\n",
    "#time_stamp = 63.582791\n",
    "\n",
    "image_path_b = r'C:\\Users\\Jonathan van Zyl\\Documents\\GitHub\\paparazzi\\COMPUTERVISIONSIM\\Projection\\single_image\\image\\73649375.jpg'\n",
    "time_stamp_b = 73.649375\n"
   ]
  },
  {
   "cell_type": "code",
   "execution_count": 10,
   "metadata": {},
   "outputs": [
    {
     "data": {
      "application/vnd.jupyter.widget-view+json": {
       "model_id": "955f63ab38d24acea206259c09359da2",
       "version_major": 2,
       "version_minor": 0
      },
      "text/plain": [
       "interactive(children=(FloatSlider(value=300.0, description='f_x:', max=1000.0, step=10.0), FloatSlider(value=3…"
      ]
     },
     "metadata": {},
     "output_type": "display_data"
    },
    {
     "data": {
      "application/vnd.jupyter.widget-view+json": {
       "model_id": "65da10001a6c49f18e262f13e820c1cf",
       "version_major": 2,
       "version_minor": 0
      },
      "text/plain": [
       "interactive(children=(FloatSlider(value=300.0, description='f_x:', max=1000.0, step=10.0), FloatSlider(value=3…"
      ]
     },
     "metadata": {},
     "output_type": "display_data"
    },
    {
     "data": {
      "application/vnd.jupyter.widget-view+json": {
       "model_id": "55b9f896859f4f7fbddbb8514a83641c",
       "version_major": 2,
       "version_minor": 0
      },
      "text/plain": [
       "Button(description='Reset', style=ButtonStyle())"
      ]
     },
     "metadata": {},
     "output_type": "display_data"
    }
   ],
   "source": [
    "# Function to project points and update the image based on camera parameters\n",
    "def update_image(f_x, f_y, c_x, c_y, image_path, time_step, csv_path):\n",
    "    # Define the image\n",
    "    image = cv2.imread(image_path)\n",
    "    image = cv2.cvtColor(image, cv2.COLOR_BGR2RGB)\n",
    "    # Rotate image\n",
    "    image = cv2.rotate(image, cv2.ROTATE_90_COUNTERCLOCKWISE)\n",
    "\n",
    "    OZ1, OZ2, OZ3, OZ4 =  image_data_needed(time_step, csv_path)\n",
    "\n",
    "\n",
    "    def xy_projections(x, y, z, f_x, f_y, c_x, c_y):\n",
    "        x_norm = y / x\n",
    "        y_norm = z / x\n",
    "        x_prime = f_x * x_norm + c_x\n",
    "        y_prime = f_y * y_norm + c_y\n",
    "        return x_prime, y_prime\n",
    "\n",
    "    # Copy the original image so as not to overwrite it\n",
    "    updated_image = np.copy(image)\n",
    "\n",
    "    # Draw the interpolated points\n",
    "    # Interpolate points between the corners\n",
    "    num_points = 20\n",
    "    x_values = np.linspace(OZ1[0], OZ2[0], num_points)\n",
    "    y_values = np.linspace(OZ1[1], OZ2[1], num_points)\n",
    "    z_values = np.linspace(OZ1[2], OZ2[2], num_points)\n",
    "    for i in range(num_points):\n",
    "        x_prime, y_prime = xy_projections(x_values[i], y_values[i], z_values[i], f_x, f_y, c_x, c_y)\n",
    "        # Make sure the points are integers\n",
    "        x_prime = int(x_prime)\n",
    "        y_prime = int(y_prime)\n",
    "        \n",
    "        cv2.circle(updated_image, (x_prime, y_prime), 5, (0, 0, 0), -1) # Black : (0, 0, 0)\n",
    "\n",
    "    num_points = 20\n",
    "    x_values = np.linspace(OZ2[0], OZ3[0], num_points)\n",
    "    y_values = np.linspace(OZ2[1], OZ3[1], num_points)\n",
    "    z_values = np.linspace(OZ2[2], OZ3[2], num_points)\n",
    "    for i in range(num_points):\n",
    "        x_prime, y_prime = xy_projections(x_values[i], y_values[i], z_values[i], f_x, f_y, c_x, c_y)\n",
    "        # Make sure the points are integers\n",
    "        x_prime = int(x_prime)\n",
    "        y_prime = int(y_prime)\n",
    "        cv2.circle(updated_image, (x_prime, y_prime), 5, (0, 0, 225), -1) # Red : (0, 0, 255)\n",
    "    num_points = 20\n",
    "    x_values = np.linspace(OZ1[0], OZ4[0], num_points)\n",
    "    y_values = np.linspace(OZ1[1], OZ4[1], num_points)\n",
    "    z_values = np.linspace(OZ1[2], OZ4[2], num_points)\n",
    "    for i in range(num_points):\n",
    "        x_prime, y_prime = xy_projections(x_values[i], y_values[i], z_values[i], f_x, f_y, c_x, c_y)\n",
    "        # Make sure the points are integers\n",
    "        x_prime = int(x_prime)\n",
    "        y_prime = int(y_prime)\n",
    "        #print('x_prime: ', x_prime, 'y_prime: ', y_prime)\n",
    "        cv2.circle(updated_image, (x_prime, -y_prime), 5, (155, 155, 255), -1)  # White : (255, 255, 255)\n",
    "    num_points = 20\n",
    "    x_values = np.linspace(OZ3[0], OZ4[0], num_points)\n",
    "    y_values = np.linspace(OZ3[1], OZ4[1], num_points)\n",
    "    z_values = np.linspace(OZ3[2], OZ4[2], num_points)\n",
    "    for i in range(num_points):\n",
    "        x_prime, y_prime = xy_projections(x_values[i], y_values[i], z_values[i], f_x, f_y, c_x, c_y)\n",
    "        # Make sure the points are integers\n",
    "        x_prime = int(x_prime)\n",
    "        y_prime = int(y_prime)\n",
    "        cv2.circle(updated_image, (x_prime, y_prime), 5, (255, 0, 0), -1) # Blue : (255, 0, 0)\n",
    "    \n",
    "    # Display the updated image\n",
    "    plt.imshow(updated_image)\n",
    "    plt.show()\n",
    "\n",
    "\n",
    "# Define sliders for the camera parameters\n",
    "f_x_slider = widgets.FloatSlider(value=300.0, min=0.0, max=1000.0, step=10.0, description='f_x:')\n",
    "f_y_slider = widgets.FloatSlider(value=300.0, min=-100.0, max=1000.0, step=10.0, description='f_y:')\n",
    "c_x_slider = widgets.FloatSlider(value=350.0, min=0.0, max=1000.0, step=10.0, description='c_x:')\n",
    "c_y_slider = widgets.FloatSlider(value=200.0, min=0.0, max=1000.0, step=10.0, description='c_y:')\n",
    "\n",
    "# Define a button for resetting the sliders\n",
    "reset_button = widgets.Button(description=\"Reset\")\n",
    "\n",
    "\n",
    "# Define a function that resets the sliders\n",
    "def reset_sliders(button):\n",
    "    f_x_slider.value = 300.0\n",
    "    f_y_slider.value = 300.0\n",
    "    c_x_slider.value = 350.0\n",
    "    c_y_slider.value = 200.0\n",
    "# Attach the function to the button\n",
    "reset_button.on_click(reset_sliders)\n",
    "\n",
    "\n",
    "# Use interact to create the interactive widget\n",
    "interact(update_image, f_x=f_x_slider, f_y=f_y_slider, c_x=c_x_slider, c_y=c_y_slider, image_path=widgets.fixed(image_path_a),\n",
    "         time_step=widgets.fixed(time_stamp_a), csv_path=widgets.fixed(csv_path))\n",
    "interact(update_image, f_x=f_x_slider, f_y=f_y_slider, c_x=c_x_slider, c_y=c_y_slider, image_path=widgets.fixed(image_path_b),\n",
    "         time_step=widgets.fixed(time_stamp_b), csv_path=widgets.fixed(csv_path))\n",
    "display(reset_button)"
   ]
  }
 ],
 "metadata": {
  "kernelspec": {
   "display_name": "Python 3",
   "language": "python",
   "name": "python3"
  },
  "language_info": {
   "codemirror_mode": {
    "name": "ipython",
    "version": 3
   },
   "file_extension": ".py",
   "mimetype": "text/x-python",
   "name": "python",
   "nbconvert_exporter": "python",
   "pygments_lexer": "ipython3",
   "version": "3.9.1"
  }
 },
 "nbformat": 4,
 "nbformat_minor": 2
}
